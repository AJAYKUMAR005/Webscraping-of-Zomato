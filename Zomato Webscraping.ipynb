{
 "cells": [
  {
   "cell_type": "code",
   "execution_count": 1,
   "metadata": {},
   "outputs": [],
   "source": [
    "# Import libraries                                                                                                                                                                                                                                                                                                                                                                                                                        import pandas as pd \n",
    "import numpy as np\n",
    "import pandas as pd\n",
    "\n",
    "from bs4 import BeautifulSoup\n",
    "\n",
    "from selenium import webdriver\n",
    "from selenium.webdriver.common.keys import Keys\n",
    "import requests\n",
    "import time\n",
    "from selenium.webdriver.support import expected_conditions as EC\n",
    "from selenium.webdriver.common.by import By\n",
    "from selenium.webdriver.support.ui import WebDriverWait\n",
    "from selenium.webdriver.common.action_chains import ActionChains"
   ]
  },
  {
   "cell_type": "code",
   "execution_count": 2,
   "metadata": {},
   "outputs": [],
   "source": [
    "# url = \"https://www.zomato.com/mumbai/great-food-no-bull\"\n",
    "# path = r'C:\\Users\\Deepthi Poojary\\Web Scrapping\\chromedriver'\n",
    "# drive = webdriver.Chrome(path)\n",
    "# drive.implicitly_wait(30)\n",
    "# drive.get(url)\n",
    "# source = drive.page_source"
   ]
  },
  {
   "cell_type": "code",
   "execution_count": 3,
   "metadata": {},
   "outputs": [],
   "source": [
    "# py_button = drive.find_elements_by_css_selector(\"div[class = 'col-s-8 col-l-1by3']\") #.get_attribute(\"href\")\n",
    "# print(len(py_button))"
   ]
  },
  {
   "cell_type": "code",
   "execution_count": 4,
   "metadata": {},
   "outputs": [],
   "source": [
    "# Open tab in full screen (maximized)\n",
    "options = webdriver.ChromeOptions()\n",
    "options.add_argument(\"start-maximized\")"
   ]
  },
  {
   "cell_type": "code",
   "execution_count": 5,
   "metadata": {},
   "outputs": [],
   "source": [
    "# Instantiate Selenium Webdriver\n",
    "driver = webdriver.Chrome(options = options , executable_path = r'C:\\Users\\Deepthi Poojary\\Web Scrapping\\chromedriver')\n",
    "\n",
    "# Get the main page (Top Restaurants in Mumbai on Zomato)\n",
    "driver.get(\"https://www.zomato.com/mumbai/great-food-no-bull\")\n",
    "\n",
    "# Get page soure\n",
    "source = driver.page_source"
   ]
  },
  {
   "cell_type": "code",
   "execution_count": 6,
   "metadata": {},
   "outputs": [],
   "source": [
    "# Get the main page/window handle after it has opened\n",
    "main_window = driver.window_handles[0]"
   ]
  },
  {
   "cell_type": "code",
   "execution_count": 7,
   "metadata": {},
   "outputs": [
    {
     "name": "stdout",
     "output_type": "stream",
     "text": [
      "Best Food in Mumbai | Zomato\n"
     ]
    }
   ],
   "source": [
    "# Get title of  main window\n",
    "main_window_title = driver.title\n",
    "print(main_window_title)"
   ]
  },
  {
   "cell_type": "code",
   "execution_count": 8,
   "metadata": {},
   "outputs": [
    {
     "data": {
      "text/plain": [
       "183"
      ]
     },
     "execution_count": 8,
     "metadata": {},
     "output_type": "execute_result"
    }
   ],
   "source": [
    "# Calculating number of restaurant on the main page using BeautifulSoup and main page source\n",
    "soup = BeautifulSoup(source,\"html.parser\") # col-s-8 col-l-1by3\n",
    "type(soup)\n",
    "button = soup.find_all(\"div\", attrs = {\"class\":\"col-s-8 col-l-1by3\"})\n",
    "bs_len = len(button)\n",
    "bs_len"
   ]
  },
  {
   "cell_type": "markdown",
   "metadata": {},
   "source": [
    "This is the number of restaurant currently on the main page."
   ]
  },
  {
   "cell_type": "code",
   "execution_count": 9,
   "metadata": {},
   "outputs": [
    {
     "data": {
      "text/plain": [
       "183"
      ]
     },
     "execution_count": 9,
     "metadata": {},
     "output_type": "execute_result"
    }
   ],
   "source": [
    "# Calculating number of restaurants on the main page using Selenium's find_elements_by_css_selector \n",
    "links = driver.find_elements_by_css_selector(\"div[class = 'col-s-8 col-l-1by3']\") #driver.find_element_by_css_selector(\"div[data_res_position = '1']\")  #WebDriverWait(driver,20).until(EC.element_to_be_clickable((\"div[data-res-position = '1']\")))\n",
    "sel_len = len(links)\n",
    "sel_len"
   ]
  },
  {
   "cell_type": "markdown",
   "metadata": {},
   "source": [
    "This is just to confirm the number of restaurants on main page and hence bs_len should be equal to sel_len."
   ]
  },
  {
   "cell_type": "code",
   "execution_count": 10,
   "metadata": {},
   "outputs": [],
   "source": [
    "# # selecting a particular restaurant from main page\n",
    "# py_button = drive.find_elements_by_css_selector(\"div[data-res-position = '1']\") #.get_attribute(\"href\")\n",
    "# print(len(py_button))\n",
    "# #print(py_button)\n",
    "# #print(py_button.text)\n",
    "# #print(py_button.get_attribute(\"a\"))"
   ]
  },
  {
   "cell_type": "code",
   "execution_count": 11,
   "metadata": {},
   "outputs": [],
   "source": [
    "#  Data we'll be extracting\n",
    "# Made a dictionary for ease of structuring dataframe\n",
    "table = {\"Name\":[],\"Area\":[],\"Type\":[],\"Rating\":[],\"Ph_Number\":[],\"Cuisine\":[],\"Avg_price\":[],\"Beer\":[],\"Time\":[],\"Adress\":[],\"Facility\":[],\"Food_Rating\":[],\"Service_Rating\":[],\"Ambience_Rating\":[] }"
   ]
  },
  {
   "cell_type": "code",
   "execution_count": null,
   "metadata": {},
   "outputs": [],
   "source": [
    "for link in links:        # for loop loops through links of all restaurants in links variable\n",
    "\n",
    "    \n",
    "    ActionChains(driver).key_down(Keys.CONTROL).click(link).key_up(Keys.CONTROL).perform()        # Opens each restaurants link in new tab by  \"ctrl\" + clicking (link) \n",
    "    \n",
    "    # get the window handle after a new window/tab has opened\n",
    "    new_window = driver.window_handles[1]\n",
    "    \n",
    "    # Switch focus to new window so that required operations can be done in that tab\n",
    "    driver.switch_to.window(new_window)\n",
    "    \n",
    "    # get new window title\n",
    "    new_window_title = driver.title\n",
    "    \n",
    "    if main_window_title != new_window_title:     # Check if main_window and new_window are different\n",
    "        \n",
    "        # Providing page source of new window\n",
    "        Source = driver.page_source\n",
    "\n",
    "        # BeautifulSoup \n",
    "        soup1 = BeautifulSoup(Source, \"html.parser\")\n",
    "\n",
    "        ### Gate 1\n",
    "        header = soup1.find(\"div\", attrs =  {\"class\" : \"col-l-12\"})\n",
    "        # Restaurant Name\n",
    "        Name = soup1.find(\"div\", attrs = {\"class\" : \"col-l-12\"}).h1.text.strip('\\n').strip(\" \")\n",
    "        table[\"Name\"].append(Name)\n",
    "        # Main adress\n",
    "        Area = header.div.a.text.strip(\" \").strip(\"\\n\").strip(\" \")\n",
    "        table[\"Area\"].append(Area)\n",
    "        # Type of Restaurant\n",
    "        Type = header.find(\"span\", attrs = {\"class\" : \"res-info-estabs grey-text fontsize3\"}).text.strip(\"\\n\")\n",
    "        table[\"Type\"].append(Type)\n",
    "\n",
    "        \n",
    "        ### Gate 2\n",
    "        header2 = soup1.find(\"div\"  , attrs = {\"class\" : \"col-l-4 tac left\"})\n",
    "        #Rating of restaurent\n",
    "        Rating = header2.find(\"div\" , attrs = {\"tabindex\" : \"0\"}).text.strip().replace(\" \",\"\").replace(\"\\n\",\"\")\n",
    "        table[\"Rating\"].append(Rating)\n",
    "\n",
    "        \n",
    "        ### Gate 3\n",
    "        tail1 = soup1.find(\"div\" , class_ = \"col-l-1by3 pl0 pr20\")\n",
    "        #Phone Number \n",
    "        Ph_Number = tail1.find(\"span\" , attrs = {\"class\" : \"fontsize2 bold zgreen\"}).text\n",
    "        table[\"Ph_Number\"].append(Ph_Number)\n",
    "        #Cusines\n",
    "        Cuisine = tail1.find(\"div\" , class_ = \"res-info-cuisines clearfix\").text\n",
    "        table[\"Cuisine\"].append(Cuisine)\n",
    "        #Average  price or price for two person\n",
    "        Avg_price = tail1.find(\"div\" , class_ = \"res-info-detail\").find(\"span\" ,attrs = {\"tabindex\" : \"0\"}).text.split(\"for\")[0]\n",
    "        table[\"Avg_price\"].append(Avg_price)\n",
    "        #Beer price/pint\n",
    "        Beer = tail1.find(\"div\" , class_ = \"res-info-detail\").find(\"div\",class_ = \"mt5\").text.strip(\"\\n\").split(\" \")[0]\n",
    "        table[\"Beer\"].append(Beer)\n",
    "\n",
    "        \n",
    "        ### Gate 4\n",
    "        tail2= soup1.find(\"div\",attrs={\"class\" : \"col-l-1by3 pl20 pr20\"})\n",
    "        # Today's timing\n",
    "        Time = tail2.find(\"div\",attrs= {\"class\":\"clearfix\"}).find(\"div\",class_ = \"medium\").text.strip(\"Today\")\n",
    "        table[\"Time\"].append(Time)\n",
    "        # Full Adress\n",
    "        Address = tail2.find(\"div\" , class_ = \"resinfo-icon\").span.text\n",
    "        table[\"Adress\"].append(Address)\n",
    "\n",
    "        # Using \"What people love here\" to get food rating, service rating and ambience rating.\n",
    "        ### Gate 5\n",
    "        tail_end = soup1.find_all(\"div\" , attrs = {\"class\" , \"col-l-1by3 pl20 pr20\"})[1]\n",
    "        #Additional_Info\n",
    "        Facility = tail_end.find(\"div\",attrs={\"class\" : \"res-info-highlights\"}).text.strip(\"\\n\").replace(\"\\n\",\" \").replace(\"More Info\",\"\").strip()\n",
    "        table[\"Facility\"].append(Facility)\n",
    "        # Food rating\n",
    "        exp = soup1.find_all(\"div\" , class_ = \"rv_highlights__score_bar mt5 mb5\")\n",
    "        length = len(exp)\n",
    "        \n",
    "        lis1 = exp[0].find_all(\"div\" , class_ = \"block level-8\")\n",
    "        n1 = 0\n",
    "        for element in lis1:\n",
    "            n1 += 1\n",
    "        food_rating = n1\n",
    "        table[\"Food_Rating\"].append(food_rating)\n",
    "\n",
    "        # Service rating\n",
    "        lis2 = exp[1].find_all(\"div\" , class_ = \"block level-7\")\n",
    "        n2 = 0\n",
    "        for element in lis2:\n",
    "            n2 += 1\n",
    "        service_rating = n2\n",
    "        table[\"Service_Rating\"].append(service_rating)\n",
    "        \n",
    "       \n",
    "    \n",
    "        if length = 3:       # Some restaurant don't have data for ambience rating\n",
    "        \n",
    "            # Ambience Rating\n",
    "            lis3 = exp[2].find_all(\"div\" , class_ = \"block level-6\")\n",
    "            n3 = 0\n",
    "            for element in lis3:\n",
    "                n3+=1\n",
    "            ambience_rating = n3\n",
    "            table[\"Ambience_Rating\"].append(ambience_rating)\n",
    "        else:              # if no ambience rating put NA \n",
    "            hue =\"NA\"\n",
    "            table[\"Abience_Rating\"].append(hue)\n",
    "             #Ask Selenium to click the back button\n",
    "            #drive.execute_script(\"window.history.go(-1)\") \n",
    "        \n",
    "        \n",
    "        # Close new tab after getting all data\n",
    "        driver.close()\n",
    "        \n",
    "        \n",
    "        # Switch handle back to main tab to open next restaurant's link\n",
    "        driver.switch_to.window(main_window)"
   ]
  },
  {
   "cell_type": "code",
   "execution_count": 18,
   "metadata": {},
   "outputs": [
    {
     "ename": "KeyError",
     "evalue": "0",
     "output_type": "error",
     "traceback": [
      "\u001b[1;31m---------------------------------------------------------------------------\u001b[0m",
      "\u001b[1;31mKeyError\u001b[0m                                  Traceback (most recent call last)",
      "\u001b[1;32m<ipython-input-18-eeff6152b270>\u001b[0m in \u001b[0;36m<module>\u001b[1;34m\u001b[0m\n\u001b[1;32m----> 1\u001b[1;33m \u001b[0mtable\u001b[0m\u001b[1;33m[\u001b[0m\u001b[1;36m0\u001b[0m\u001b[1;33m]\u001b[0m\u001b[1;33m\u001b[0m\u001b[0m\n\u001b[0m",
      "\u001b[1;31mKeyError\u001b[0m: 0"
     ]
    }
   ],
   "source": [
    "table       # take a look at dictionary"
   ]
  },
  {
   "cell_type": "code",
   "execution_count": 19,
   "metadata": {},
   "outputs": [
    {
     "data": {
      "text/html": [
       "<div>\n",
       "<style scoped>\n",
       "    .dataframe tbody tr th:only-of-type {\n",
       "        vertical-align: middle;\n",
       "    }\n",
       "\n",
       "    .dataframe tbody tr th {\n",
       "        vertical-align: top;\n",
       "    }\n",
       "\n",
       "    .dataframe thead th {\n",
       "        text-align: right;\n",
       "    }\n",
       "</style>\n",
       "<table border=\"1\" class=\"dataframe\">\n",
       "  <thead>\n",
       "    <tr style=\"text-align: right;\">\n",
       "      <th></th>\n",
       "      <th>Name</th>\n",
       "      <th>Area</th>\n",
       "      <th>Type</th>\n",
       "      <th>Rating</th>\n",
       "      <th>Ph_Number</th>\n",
       "      <th>Cuisine</th>\n",
       "      <th>Avg_price</th>\n",
       "      <th>Beer</th>\n",
       "      <th>Time</th>\n",
       "      <th>Adress</th>\n",
       "      <th>Facility</th>\n",
       "      <th>Food_Rating</th>\n",
       "      <th>Service_Rating</th>\n",
       "      <th>Ambience_Rating</th>\n",
       "    </tr>\n",
       "  </thead>\n",
       "  <tbody>\n",
       "    <tr>\n",
       "      <td>0</td>\n",
       "      <td>Delhi Highway</td>\n",
       "      <td>Marol</td>\n",
       "      <td>Casual Dining</td>\n",
       "      <td>4.6/5</td>\n",
       "      <td>022 61736171</td>\n",
       "      <td>North Indian, Mughlai</td>\n",
       "      <td>₹1,200</td>\n",
       "      <td>Cash\\n</td>\n",
       "      <td>8:30am – 6:30pm, 7pm – 11pm</td>\n",
       "      <td>A4, Ground Floor, B Wing, Times Square, Andher...</td>\n",
       "      <td>Home Delivery   Vegetarian Only  No Alcohol Av...</td>\n",
       "      <td>5</td>\n",
       "      <td>4</td>\n",
       "      <td>0</td>\n",
       "    </tr>\n",
       "    <tr>\n",
       "      <td>1</td>\n",
       "      <td>Jumjoji - The Parsi Diner</td>\n",
       "      <td>Chakala</td>\n",
       "      <td>Casual Dining, Bar</td>\n",
       "      <td>4.9/5</td>\n",
       "      <td>022 61876818</td>\n",
       "      <td>Parsi</td>\n",
       "      <td>₹2,100</td>\n",
       "      <td>₹350</td>\n",
       "      <td>11am – 12midnight</td>\n",
       "      <td>The Orb, 1st Floor, Unit 11 A &amp; B, IA Project ...</td>\n",
       "      <td>Full Bar Available  Table booking recommendedS...</td>\n",
       "      <td>5</td>\n",
       "      <td>0</td>\n",
       "      <td>0</td>\n",
       "    </tr>\n",
       "    <tr>\n",
       "      <td>2</td>\n",
       "      <td>Mitron - Peninsula Grand Hotel</td>\n",
       "      <td>Sakinaka</td>\n",
       "      <td>Lounge</td>\n",
       "      <td>4.6/5</td>\n",
       "      <td>022 61736287</td>\n",
       "      <td>Continental, North Indian, Burger, Finger Food</td>\n",
       "      <td>₹1,500</td>\n",
       "      <td>₹175</td>\n",
       "      <td>12noon – 3am</td>\n",
       "      <td>Hotel Peninsula Grand, Opposite Sakinaka Metro...</td>\n",
       "      <td>Full Bar Available  Live EntertainmentNightlif...</td>\n",
       "      <td>5</td>\n",
       "      <td>4</td>\n",
       "      <td>0</td>\n",
       "    </tr>\n",
       "    <tr>\n",
       "      <td>3</td>\n",
       "      <td>Tanatan</td>\n",
       "      <td>Juhu</td>\n",
       "      <td>Casual Dining, Bar</td>\n",
       "      <td>4.5/5</td>\n",
       "      <td>022 61876970</td>\n",
       "      <td>Modern Indian</td>\n",
       "      <td>₹1,500</td>\n",
       "      <td>₹250</td>\n",
       "      <td>12noon – 1:30am</td>\n",
       "      <td>Ramee Guestline Hotel, 462, A.B. Nair Road, Ju...</td>\n",
       "      <td>Home Delivery   Full Bar Available  Live Enter...</td>\n",
       "      <td>5</td>\n",
       "      <td>4</td>\n",
       "      <td>0</td>\n",
       "    </tr>\n",
       "    <tr>\n",
       "      <td>4</td>\n",
       "      <td>MH04 The Drunk Yard</td>\n",
       "      <td>Manpada, Thane West</td>\n",
       "      <td>Bar</td>\n",
       "      <td>4.6/5</td>\n",
       "      <td>022 61739793</td>\n",
       "      <td>Finger Food, North Indian, Italian, Mexican, C...</td>\n",
       "      <td>₹1,500</td>\n",
       "      <td>₹209</td>\n",
       "      <td>12noon – 1am</td>\n",
       "      <td>C-1 B-1, Kothari Compound, 27 Acre, Beside Roy...</td>\n",
       "      <td>Full Bar Available  Live Sports ScreeningLive ...</td>\n",
       "      <td>5</td>\n",
       "      <td>0</td>\n",
       "      <td>0</td>\n",
       "    </tr>\n",
       "  </tbody>\n",
       "</table>\n",
       "</div>"
      ],
      "text/plain": [
       "                             Name                 Area                 Type  \\\n",
       "0                   Delhi Highway                Marol       Casual Dining    \n",
       "1       Jumjoji - The Parsi Diner              Chakala  Casual Dining, Bar    \n",
       "2  Mitron - Peninsula Grand Hotel             Sakinaka              Lounge    \n",
       "3                         Tanatan                 Juhu  Casual Dining, Bar    \n",
       "4             MH04 The Drunk Yard  Manpada, Thane West                 Bar    \n",
       "\n",
       "  Rating     Ph_Number                                            Cuisine  \\\n",
       "0  4.6/5  022 61736171                              North Indian, Mughlai   \n",
       "1  4.9/5  022 61876818                                              Parsi   \n",
       "2  4.6/5  022 61736287     Continental, North Indian, Burger, Finger Food   \n",
       "3  4.5/5  022 61876970                                      Modern Indian   \n",
       "4  4.6/5  022 61739793  Finger Food, North Indian, Italian, Mexican, C...   \n",
       "\n",
       "  Avg_price    Beer                           Time  \\\n",
       "0   ₹1,200   Cash\\n    8:30am – 6:30pm, 7pm – 11pm   \n",
       "1   ₹2,100     ₹350              11am – 12midnight   \n",
       "2   ₹1,500     ₹175                   12noon – 3am   \n",
       "3   ₹1,500     ₹250                12noon – 1:30am   \n",
       "4   ₹1,500     ₹209                   12noon – 1am   \n",
       "\n",
       "                                              Adress  \\\n",
       "0  A4, Ground Floor, B Wing, Times Square, Andher...   \n",
       "1  The Orb, 1st Floor, Unit 11 A & B, IA Project ...   \n",
       "2  Hotel Peninsula Grand, Opposite Sakinaka Metro...   \n",
       "3  Ramee Guestline Hotel, 462, A.B. Nair Road, Ju...   \n",
       "4  C-1 B-1, Kothari Compound, 27 Acre, Beside Roy...   \n",
       "\n",
       "                                            Facility  Food_Rating  \\\n",
       "0  Home Delivery   Vegetarian Only  No Alcohol Av...            5   \n",
       "1  Full Bar Available  Table booking recommendedS...            5   \n",
       "2  Full Bar Available  Live EntertainmentNightlif...            5   \n",
       "3  Home Delivery   Full Bar Available  Live Enter...            5   \n",
       "4  Full Bar Available  Live Sports ScreeningLive ...            5   \n",
       "\n",
       "   Service_Rating  Ambience_Rating  \n",
       "0               4                0  \n",
       "1               0                0  \n",
       "2               4                0  \n",
       "3               4                0  \n",
       "4               0                0  "
      ]
     },
     "execution_count": 19,
     "metadata": {},
     "output_type": "execute_result"
    }
   ],
   "source": [
    "dataset = pd.DataFrame(table)\n",
    "dataset.head()"
   ]
  },
  {
   "cell_type": "code",
   "execution_count": 20,
   "metadata": {},
   "outputs": [
    {
     "data": {
      "text/plain": [
       "(11, 14)"
      ]
     },
     "execution_count": 20,
     "metadata": {},
     "output_type": "execute_result"
    }
   ],
   "source": [
    "dataset.shape"
   ]
  }
 ],
 "metadata": {
  "kernelspec": {
   "display_name": "Python 3",
   "language": "python",
   "name": "python3"
  },
  "language_info": {
   "codemirror_mode": {
    "name": "ipython",
    "version": 3
   },
   "file_extension": ".py",
   "mimetype": "text/x-python",
   "name": "python",
   "nbconvert_exporter": "python",
   "pygments_lexer": "ipython3",
   "version": "3.6.5"
  }
 },
 "nbformat": 4,
 "nbformat_minor": 2
}
