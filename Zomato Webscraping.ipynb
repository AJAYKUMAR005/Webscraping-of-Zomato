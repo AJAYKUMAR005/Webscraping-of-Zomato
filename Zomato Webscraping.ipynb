{
 "cells": [
  {
   "cell_type": "code",
   "execution_count": null,
   "metadata": {},
   "outputs": [],
   "source": [
    "import pandas as pd \n",
    "import numpy as np\n",
    "from bs4 import BeautifulSoup\n",
    "from selenium import webdriver\n",
    "from selenium.webdriver.common.keys import Keys\n",
    "import requests\n",
    "import time\n",
    "from selenium.webdriver.support import expected_conditions as EC\n",
    "from selenium.webdriver.common.by import By\n",
    "from selenium.webdriver.support.ui import WebDriverWait\n",
    "from"
   ]
  },
  {
   "cell_type": "code",
   "execution_count": null,
   "metadata": {},
   "outputs": [],
   "source": [
    "url = \"https://www.zomato.com/mumbai/great-food-no-bull\"\n",
    "path = r'C:\\Users\\Deepthi Poojary\\Web Scrapping\\chromedriver'\n",
    "drive = webdriver.Chrome(path)\n",
    "drive.implicitly_wait(30)\n",
    "drive.get(url)\n",
    "#source = drive.page_source"
   ]
  },
  {
   "cell_type": "code",
   "execution_count": null,
   "metadata": {},
   "outputs": [],
   "source": [
    "# Calculating number of restaurant on the main page\n",
    "soup = BeautifulSoup(source,\"html.parser\") # col-s-8 col-l-1by3\n",
    "type(soup)\n",
    "button = soup.find_all(\"div\", attrs = {\"class\":\"col-s-8 col-1-1by3\"})\n",
    "len(button)"
   ]
  },
  {
   "cell_type": "code",
   "execution_count": null,
   "metadata": {},
   "outputs": [],
   "source": [
    "# selecting a particular restaurant from main page\n",
    "py_button = drive.find_elements_by_css_selector(\"div[data-res-position = '1']\")\n",
    "len(py_button)"
   ]
  },
  {
   "cell_type": "code",
   "execution_count": null,
   "metadata": {},
   "outputs": [],
   "source": [
    "#  Data we'll be extracting\n",
    "table = {\"Name\":[],\"Area\":[],\"Type\":[],\"Rating\":[],\"Ph_Number\":[],\"Cuisine\":[],\"Avg_price\":[],\"Beer\":[],\"Time\":[],\"Adress\":[],\"Facility\":[],\"Food_Rating\":[],\"Service_Rating\":[],\"Ambience_Rating\":[] }"
   ]
  },
  {
   "cell_type": "code",
   "execution_count": null,
   "metadata": {},
   "outputs": [],
   "source": [
    "for link in py_button1:\n",
    "    # Opening restaurant page in another tab\n",
    "    link.click().send_keys(Keys.CONTROL+\"t\")  \n",
    "    \n",
    "    # Providing page source\n",
    "    Source = drive.page_source\n",
    "    \n",
    "    # BeautifulSoup \n",
    "    soup1 = BeautifulSoup(Source, \"html.parser\")\n",
    "   \n",
    "    # Gate 1\n",
    "    header = soup1.find(\"div\", attrs =  {\"class\" : \"col-l-12\"})\n",
    "    # Restaurant Name\n",
    "    Name = soup1.find(\"div\", attrs = {\"class\" : \"col-l-12\"}).h1.text.strip('\\n').strip(\" \")\n",
    "    table[\"Name\"].append(Name)\n",
    "    # Main adress\n",
    "    Area = header.div.a.text.strip(\" \").strip(\"\\n\").strip(\" \")\n",
    "    table[\"Area\"].append(Area)\n",
    "    # Type of Restaurant\n",
    "    Type = header.find(\"span\", attrs = {\"class\" : \"res-info-estabs grey-text fontsize3\"}).text.strip(\"\\n\")\n",
    "    table[\"Type\"].append(Type)\n",
    "    \n",
    "    # Gate 2\n",
    "    header2 = soup1.find(\"div\"  , attrs = {\"class\" : \"col-l-4 tac left\"})\n",
    "    #Rating of restaurent\n",
    "    Rating = header2.find(\"div\" , attrs = {\"tabindex\" : \"0\"}).text.strip().replace(\" \",\"\").replace(\"\\n\",\"\")\n",
    "    table[\"Rating\"].append(Rating)\n",
    "    \n",
    "    # Gate 3\n",
    "    tail1 = soup1.find(\"div\" , class_ = \"col-l-1by3 pl0 pr20\")\n",
    "    #Phone Number \n",
    "    Ph_Number = tail1.find(\"span\" , attrs = {\"class\" : \"fontsize2 bold zgreen\"}).text\n",
    "    table[\"Ph_Number\"].append(Ph_Number)\n",
    "    #Cusines\n",
    "    Cuisine = tail1.find(\"div\" , class_ = \"res-info-cuisines clearfix\").text\n",
    "    table[\"Cuisine\"].append(Cuisine)\n",
    "    #Average  price or price for two person\n",
    "    Avg_price = tail1.find(\"div\" , class_ = \"res-info-detail\").find(\"span\" ,attrs = {\"tabindex\" : \"0\"}).text.split(\"for\")[0]\n",
    "    table[\"Avg_price\"].append(Avg_price)\n",
    "    #Beer price/pint\n",
    "    Beer = tail1.find(\"div\" , class_ = \"res-info-detail\").find(\"div\",class_ = \"mt5\").text.strip(\"\\n\").split(\" \")[0]\n",
    "    table[\"Beer\"].append(Beer)\n",
    "    \n",
    "    # Gate 4\n",
    "    tail2= soup1.find(\"div\",attrs={\"class\" : \"col-l-1by3 pl20 pr20\"})\n",
    "    # Today's timing\n",
    "    Time = tail2.find(\"div\",attrs= {\"class\":\"clearfix\"}).find(\"div\",class_ = \"medium\").text.strip(\"Today\")\n",
    "    table[\"Time\"].append(Time)\n",
    "    # Full Adress\n",
    "    Address = tail2.find(\"div\" , class_ = \"resinfo-icon\").span.text\n",
    "    table[\"Adress\"].append(Address)\n",
    "    \n",
    "    # Gate 5\n",
    "    tail_end = soup1.find_all(\"div\" , attrs = {\"class\" , \"col-l-1by3 pl20 pr20\"})[1]\n",
    "    #Additional_Info\n",
    "    Facility = tail_end.find(\"div\",attrs={\"class\" : \"res-info-highlights\"}).text.strip(\"\\n\").replace(\"\\n\",\" \").replace(\"More Info\",\"\").strip()\n",
    "    table[\"Facility\"].append(Facility)\n",
    "    # Food rating\n",
    "    exp = soup1.find_all(\"div\" , class_ = \"rv_highlights__score_bar mt5 mb5\")\n",
    "    lis1 = exp[0].find_all(\"div\" , class_ = \"block level-8\")\n",
    "    n1 = 0\n",
    "    for element in lis1:\n",
    "        n1 += 1\n",
    "    food_rating = n1\n",
    "    table[\"Food_Rating\"].append(food_rating)\n",
    "    \n",
    "    # Service rating\n",
    "    lis2 = exp[1].find_all(\"div\" , class_ = \"block level-6\")\n",
    "    n2 = 0\n",
    "    for element in lis2:\n",
    "        n2 += 1\n",
    "    service_rating = n2\n",
    "    table[\"Service_Rating\"].append(service_rating)\n",
    "    \n",
    "    # Ambience Rating\n",
    "    lis3 = exp[2].find_all(\"div\" , class_ = \"block level-7\")\n",
    "    n3 = 0\n",
    "    for element in lis3:\n",
    "        n3+=1\n",
    "    ambience_rating = n3\n",
    "    table[\"Ambience_Rating\"].append(ambience_rating)\n",
    "    \n",
    "     #Ask Selenium to click the back button\n",
    "    drive.execute_script(\"window.history.go(-1)\") "
   ]
  },
  {
   "cell_type": "code",
   "execution_count": null,
   "metadata": {},
   "outputs": [],
   "source": []
  }
 ],
 "metadata": {
  "kernelspec": {
   "display_name": "Python 3",
   "language": "python",
   "name": "python3"
  },
  "language_info": {
   "codemirror_mode": {
    "name": "ipython",
    "version": 3
   },
   "file_extension": ".py",
   "mimetype": "text/x-python",
   "name": "python",
   "nbconvert_exporter": "python",
   "pygments_lexer": "ipython3",
   "version": "3.6.5"
  }
 },
 "nbformat": 4,
 "nbformat_minor": 2
}
